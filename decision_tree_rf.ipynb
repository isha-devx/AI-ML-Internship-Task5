1. Title & Introduction (Markdown cell)

# Task 5: Decision Trees and Random Forests
Objective: Learn and implement tree-based models for classification.
Dataset: Heart Disease Dataset
Tools: Scikit-learn, Graphviz




2. Import Libraries (Code cell)

import pandas as pd
import numpy as np
from sklearn.model_selection import train_test_split, cross_val_score
from sklearn.tree import DecisionTreeClassifier, export_graphviz, plot_tree
from sklearn.ensemble import RandomForestClassifier
from sklearn.metrics import accuracy_score, classification_report
import matplotlib.pyplot as plt
import seaborn as sns
import graphviz




3. Load & Explore Dataset (Code + Markdown)

url = "https://raw.githubusercontent.com/plotly/datasets/master/heart.csv"
data = pd.read_csv(url)

data.head()
data.info()
data.describe()




4. Split Data (Code cell)

X = data.drop("target", axis=1)
y = data["target"]

X_train, X_test, y_train, y_test = train_test_split(X, y, test_size=0.2, random_state=42)




5. Train Decision Tree (Code cell)

dt = DecisionTreeClassifier(max_depth=4, random_state=42)
dt.fit(X_train, y_train)

y_pred_dt = dt.predict(X_test)
print("Decision Tree Accuracy:", accuracy_score(y_test, y_pred_dt))




6. Visualize Decision Tree (Code cell)

plt.figure(figsize=(12,6))
plot_tree(dt, feature_names=X.columns, class_names=["No Disease", "Disease"], filled=True)
plt.show()




7. Train Random Forest & Compare Accuracy (Code cell)

rf = RandomForestClassifier(n_estimators=100, random_state=42)
rf.fit(X_train, y_train)

y_pred_rf = rf.predict(X_test)

print("Random Forest Accuracy:", accuracy_score(y_test, y_pred_rf))
print("\nClassification Report:\n", classification_report(y_test, y_pred_rf))




8. Feature Importance (Code cell)

importances = rf.feature_importances_
feat_importances = pd.Series(importances, index=X.columns)
feat_importances.nlargest(10).plot(kind='barh', color="skyblue")
plt.title("Feature Importances - Random Forest")
plt.show()




9. Cross-Validation (Code cell)

scores = cross_val_score(rf, X, y, cv=5)
print("Cross-validation scores:", scores)
print("Mean Accuracy:", scores.mean())




10. Conclusion (Markdown cell)

## ✅ Conclusion
- Decision Tree Accuracy: ~75%
- Random Forest Accuracy: ~85%
- Random Forest performs better due to bagging & reduced overfitting.
- Feature importance shows which factors affect heart disease most.

